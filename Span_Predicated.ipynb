{
 "cells": [
  {
   "cell_type": "code",
   "execution_count": 1,
   "id": "3ba89da9-220f-4405-9112-25f25272e627",
   "metadata": {},
   "outputs": [],
   "source": [
    "import pandas as pd\n",
    "import numpy as np\n",
    "import random\n",
    "import json\n",
    "import os\n",
    "import torch\n",
    "import torch.nn as nn\n",
    "from tqdm.notebook import tqdm, trange\n",
    "from sklearn.model_selection import train_test_split\n",
    "import torch\n",
    "from torch.utils.data import Dataset,DataLoader\n",
    "from transformers import AlbertConfig, AlbertForPreTraining, load_tf_weights_in_albert,BertTokenizer,AlbertModel\n",
    "import matplotlib.pyplot as plt\n",
    "from matplotlib import rcParams\n",
    "config = {\n",
    "\"font.family\": 'serif',\n",
    "\"font.size\": 15,\n",
    "\"mathtext.fontset\": 'stix',\n",
    "\"font.serif\": ['SimSun'],\n",
    "}\n",
    "import seaborn as sns\n",
    "import warnings\n",
    "warnings.filterwarnings('ignore')\n",
    "import collections\n",
    "import torch.nn.functional as F\n",
    "from torch.nn import Conv2d, Module, Linear, BatchNorm2d, ReLU\n",
    "from torch.nn.modules.utils import _pair\n",
    "import sklearn.metrics as metrics"
   ]
  },
  {
   "cell_type": "code",
   "execution_count": 2,
   "id": "b268ddd2-3843-4329-ac0d-60651c4192f1",
   "metadata": {},
   "outputs": [],
   "source": [
    "class Label_Dataset(Dataset):\n",
    "    def __init__(self,data_x,data_y):\n",
    "        self.data_x=data_x\n",
    "        self.data_y=data_y\n",
    "        \n",
    "    def __len__(self):\n",
    "        return len(self.data_x)\n",
    "        \n",
    "    def __getitem__(self,ind):\n",
    "        label=self.data_y[ind]\n",
    "        content=self.data_x[ind]\n",
    "        return content,label\n",
    "\n",
    "class MyModel_1(nn.Module):\n",
    "    \"\"\"\n",
    "    Albert模型\n",
    "    \"\"\"\n",
    "    def __init__(self, config):\n",
    "        super(MyModel_1, self).__init__()\n",
    "        self.albert = AlbertModel.from_pretrained(pretrained_weights)\n",
    "        self.dropout=nn.Dropout(p=0.1,inplace=False)\n",
    "        self.classifier=nn.Linear(768,config.number_class,bias=True)\n",
    "        self.sigmoid=nn.Sigmoid()\n",
    "    def forward(self,x,attention_mask):\n",
    "        _,out=self.albert(x,attention_mask=attention_mask)[:2]\n",
    "        out=self.dropout(out)\n",
    "        out=self.classifier(out)\n",
    "        out=self.sigmoid(out)\n",
    "        return out\n",
    "\n",
    "def get_result(Y_test, Y_pred):\n",
    "    \"\"\"\n",
    "    计算评价指标\n",
    "    \"\"\"\n",
    "    test_acc_rate=metrics.accuracy_score(Y_test, Y_pred)\n",
    "    test_pre_rate=metrics.precision_score(Y_test, Y_pred)\n",
    "    test_recall_rate=metrics.recall_score(Y_test, Y_pred)\n",
    "    test_f1=metrics.f1_score(Y_test, Y_pred)\n",
    "    return test_acc_rate,test_pre_rate,test_recall_rate,test_f1\n",
    "\n",
    "def get_each_label_result(trues,preds):\n",
    "    preds=np.array(preds)\n",
    "    trues=np.array(trues)\n",
    "    \n",
    "    epoch_result=[]\n",
    "    for i in range(len(class_list)):\n",
    "        true_i=trues[:,i]\n",
    "        pred_i=preds[:,i]\n",
    "        result_i=get_result(true_i, pred_i)\n",
    "        epoch_result.append(result_i)\n",
    "    return [trues,preds],np.array(epoch_result)\n",
    "\n",
    "def plotHeatMap(Y_test, Y_pred):\n",
    "    \"\"\"\n",
    "    绘制混淆矩阵\n",
    "    \"\"\"\n",
    "    con_mat = metrics.confusion_matrix(Y_test, Y_pred).astype(float)\n",
    "    for i in range(len(con_mat)):\n",
    "        con_mat[i]=np.round(con_mat[i]/sum(con_mat[i]),4)\n",
    "    \n",
    "    # 绘图\n",
    "    plt.figure(figsize=(8,8))\n",
    "    sns.heatmap(con_mat, annot=True, fmt='.4g', cmap='Blues')\n",
    "    plt.xlabel('Predicted labels')\n",
    "    plt.ylabel('True labels')\n",
    "    plt.xticks(range(len(class_list)),class_list)\n",
    "    plt.yticks(range(len(class_list)),class_list)\n",
    "    plt.savefig('./test_混淆矩阵.png',dpi=400)\n",
    "    plt.show()\n",
    "\n",
    "def test_func(model,test_dataloader):\n",
    "    model.eval()\n",
    "    test_loss=0\n",
    "    with torch.no_grad():\n",
    "        count=0\n",
    "        test_true,test_pred=[],[]\n",
    "        for i,(x,y) in enumerate(test_dataloader):\n",
    "            token_x=tokenizer.batch_encode_plus(x,max_length=max_length,pad_to_max_length=True,truncation=True)\n",
    "            token_x_input_ids=token_x['input_ids']\n",
    "            token_x_attention_mask=token_x['attention_mask']\n",
    "            token_x_input_ids=torch.tensor(token_x_input_ids).to(device)\n",
    "            token_x_attention_mask=torch.tensor(token_x_attention_mask).to(device)\n",
    "            token_y=y.to(device)\n",
    "            \n",
    "            out=model(token_x_input_ids, token_x_attention_mask)\n",
    "            loss=loss_func(out,token_y.float())#计算损失值\n",
    "            test_loss+=loss.item()\n",
    "            count+=len(x)\n",
    "    \n",
    "            #收集结果\n",
    "            pred=(out>0.5).int().detach().to('cpu').numpy()\n",
    "            true=token_y.detach().to('cpu').numpy()\n",
    "            test_pred+=list(pred)\n",
    "            test_true+=list(true)\n",
    "    test_true_pred,test_result=get_each_label_result(test_true,test_pred)\n",
    "    test_result_df=pd.DataFrame(test_result,index=class_list,columns=['acc','pre','rec','f1'])\n",
    "    return test_result_df,test_true_pred,test_loss/count"
   ]
  },
  {
   "cell_type": "code",
   "execution_count": 41,
   "id": "01d2d2a0-70e6-470f-b10d-02f65cd737b7",
   "metadata": {
    "scrolled": true
   },
   "outputs": [
    {
     "data": {
      "application/vnd.jupyter.widget-view+json": {
       "model_id": "f53edfba3892446999ed3a1c3b7a7e6b",
       "version_major": 2,
       "version_minor": 0
      },
      "text/plain": [
       "  0%|          | 0/24 [00:00<?, ?it/s]"
      ]
     },
     "metadata": {},
     "output_type": "display_data"
    },
    {
     "name": "stdout",
     "output_type": "stream",
     "text": [
      "['菊明奎'] ./CSL_FullAnnotation1/Jodie_new_results/annotations low 2-4.xlsx\n",
      "['隋文熙'] ./CSL_FullAnnotation1/已标注/Low1-6.xlsx\n",
      "['图雅'] ./CSL_FullAnnotation1/第二次正式数据/Beginner1-5 F.xlsx\n"
     ]
    }
   ],
   "source": [
    "data_path='./CSL_FullAnnotation1/'\n",
    "file_path=os.listdir(data_path)\n",
    "\n",
    "invalid_file=[]\n",
    "all_data=pd.DataFrame({})\n",
    "all_data_dialog=pd.DataFrame({})\n",
    "file_score={}\n",
    "error_dict={}\n",
    "for file in tqdm(file_path):\n",
    "    file_p=data_path+file\n",
    "    if '.DS_Store' in file_p:\n",
    "        continue\n",
    "    for excel in os.listdir(file_p):\n",
    "        if ('.xlsx' not in excel) or ('$' in excel):\n",
    "            continue\n",
    "        excel_path=file_p+'/'+excel\n",
    "\n",
    "        data=pd.read_excel(excel_path)\n",
    "        #============剔除缺少Label列的文件===============\n",
    "        if 'Label' not in data.columns:\n",
    "            error_dict[excel_path]='缺少Label列'\n",
    "            continue\n",
    "            \n",
    "        #===========找分数===========\n",
    "        data_data=data[data['Label'].isna()==False]\n",
    "        ii=None\n",
    "        for i in data_data['Label']:\n",
    "            try:\n",
    "                ii=int(i)\n",
    "                break\n",
    "            except:\n",
    "                \n",
    "                continue\n",
    "\n",
    "        #========剔除没有分数的文件============\n",
    "        if ii is not None:\n",
    "            score=ii\n",
    "            file_score[excel_path]=score\n",
    "        else:\n",
    "            error_dict[excel_path]='缺少分数'\n",
    "            continue\n",
    "\n",
    "        #=======剔除没有Speaker列的文件=============\n",
    "        if (data['Speaker'].isna()==False).sum()==0:\n",
    "            invalid_file.append(excel_path)\n",
    "            error_dict[excel_path]='没有Speaker列'\n",
    "            continue\n",
    "        data['Speaker']=data['Speaker'].fillna(method='ffill')\n",
    "        data['Speaker']=data['Speaker'].fillna(method='backfill')\n",
    "\n",
    "        #=========剔除没有LabelLevel列的文件============\n",
    "        try:\n",
    "            data_1=data[data['LabelLevel'].isin(['Token level','Utterance level'])]\n",
    "            data_dislog=data[data['LabelLevel']=='Dialogue level']\n",
    "            data_dislog['file']=[excel_path]*len(data_dislog)\n",
    "            all_data_dialog=pd.concat([all_data_dialog,data_dislog])\n",
    "        except:\n",
    "            error_dict[excel_path]='没有LabelLevel列'\n",
    "            continue\n",
    "\n",
    "        #======删除Speaker的缩进=========\n",
    "        data_1['Speaker']=data_1['Speaker'].apply(lambda x: x.strip())\n",
    "        \n",
    "        #------------合并类别-------------\n",
    "        if 'R' in list(data_1['Speaker']):\n",
    "            data_1['Speaker']=data_1['Speaker'].apply(lambda x: np.nan if x=='R' else x)\n",
    "            data_1['Speaker']=data_1['Speaker'].fillna(method='ffill')\n",
    "            data_1['Speaker']=data_1['Speaker'].fillna(method='backfill')\n",
    "        dicts_list={'梦莹':'秀莹','SPK_3':'SPK_2','美丽':'美容','方湾':'芳湾','Jing':'克姆','雅克':'雅哈','方兴':'芳湾'}\n",
    "        for iii,jjj in dicts_list.items():\n",
    "            if iii in list(data_1['Speaker']):\n",
    "                data_1['Speaker']=data_1['Speaker'].apply(lambda x: jjj if x==iii else x)\n",
    "\n",
    "        #=========给文本添加对话者身份========\n",
    "        name_list=list(data_1['Speaker'].drop_duplicates())\n",
    "        index_list=['A','B','C','D']\n",
    "        name_dict={}\n",
    "        if len(name_list)!=2:\n",
    "            print(name_list,excel_path)\n",
    "        for index_i,name in enumerate(name_list):\n",
    "            name_dict[name]=index_list[index_i]\n",
    "        content_2_label_dict=collections.defaultdict(list)\n",
    "        \n",
    "        for name,AB in name_dict.items():\n",
    "            name_data=data_1[data_1['Speaker']==name]\n",
    "            for _,label,_, content in name_data.values:\n",
    "                content_2_label_dict[AB+'-'+content].append(label)\n",
    "        new_dict_1={}\n",
    "        for i,j in content_2_label_dict.items():\n",
    "            new_dict_1[i]=['|'.join(j),i]\n",
    "        new_df=pd.DataFrame(new_dict_1).T\n",
    "        new_df.index=range(len(new_df))\n",
    "\n",
    "        #=========添加文件名===========\n",
    "        new_df['file']=[excel_path]*len(new_df)\n",
    "        all_data=pd.concat([all_data,new_df])"
   ]
  },
  {
   "cell_type": "code",
   "execution_count": 60,
   "id": "354e15eb",
   "metadata": {},
   "outputs": [],
   "source": [
    "all_data_dialog.to_csv('./all_data_dialog.csv',index=False)\n",
    "file_score_df=pd.DataFrame([file_score]).T\n",
    "file_score_df.to_csv('./file_score.csv')"
   ]
  },
  {
   "cell_type": "code",
   "execution_count": 50,
   "metadata": {},
   "outputs": [
    {
     "data": {
      "image/png": "[encoded data removed]",
      "text/plain": [
       "<Figure size 640x480 with 1 Axes>"
      ]
     },
     "metadata": {},
     "output_type": "display_data"
    }
   ],
   "source": [
    "plt.hist(file_score_df[0])\n",
    "plt.show()"
   ]
  },
  {
   "cell_type": "code",
   "execution_count": null,
   "id": "8a5e9308",
   "metadata": {},
   "outputs": [],
   "source": []
  },
  {
   "cell_type": "code",
   "execution_count": 4,
   "id": "b543a904",
   "metadata": {},
   "outputs": [
    {
     "data": {
      "text/plain": [
       "(406, 1, 2)"
      ]
     },
     "execution_count": 4,
     "metadata": {},
     "output_type": "execute_result"
    }
   ],
   "source": [
    "len(set(all_data['file'])),len(invalid_file),len(error_dict)"
   ]
  },
  {
   "cell_type": "code",
   "execution_count": 5,
   "id": "fa97d8db",
   "metadata": {},
   "outputs": [
    {
     "data": {
      "image/png": "[encoded data removed]",
      "text/plain": [
       "<Figure size 640x480 with 1 Axes>"
      ]
     },
     "metadata": {},
     "output_type": "display_data"
    }
   ],
   "source": [
    "plt.hist([len(i) for i in all_data[1]])\n",
    "plt.show()"
   ]
  },
  {
   "cell_type": "code",
   "execution_count": null,
   "id": "76e42d1f",
   "metadata": {},
   "outputs": [],
   "source": []
  },
  {
   "cell_type": "code",
   "execution_count": null,
   "id": "e81ad06e",
   "metadata": {},
   "outputs": [],
   "source": []
  },
  {
   "cell_type": "code",
   "execution_count": null,
   "id": "d19ac28f",
   "metadata": {},
   "outputs": [],
   "source": []
  },
  {
   "cell_type": "code",
   "execution_count": 6,
   "id": "d7785d8b-f23b-4691-aa94-29037d7f7bdd",
   "metadata": {},
   "outputs": [],
   "source": [
    "#==============划分训练集、验证集和测试集的文件==========\n",
    "all_file_list=list(set(all_data['file']))\n",
    "train_file,test_file=train_test_split(all_file_list,train_size=0.8)\n",
    "train_file,valid_file=train_test_split(train_file,train_size=0.85)\n",
    "\n",
    "#========================加标签=====================\n",
    "class_list=list(set('|'.join(all_data[0]).split('|')))\n",
    "data_y=np.zeros(shape=(len(all_data),len(class_list)))\n",
    "data_x=all_data.values[:,1]\n",
    "data_f=all_data.values[:,2]\n",
    "\n",
    "for label_i,labels in enumerate(all_data.values[:,0]):\n",
    "    labels_list=labels.split('|')\n",
    "    for jjj in labels_list:\n",
    "        data_y[label_i,class_list.index(jjj)]=1\n",
    "\n",
    "new_data_df=pd.concat([pd.DataFrame(data_y),pd.DataFrame(data_x,columns=['text']),pd.DataFrame(data_f,columns=['file'])],axis=1)\n",
    "\n",
    "#找出训练集和测试集\n",
    "train_df=new_data_df[new_data_df['file'].isin(train_file)]\n",
    "valid_df=new_data_df[new_data_df['file'].isin(valid_file)]\n",
    "test_df=new_data_df[new_data_df['file'].isin(test_file)]\n",
    "\n",
    "#数据打包\n",
    "traindataset=Label_Dataset(train_df.values[:,-2],train_df[train_df.columns[:-2]].values)\n",
    "validdataset=Label_Dataset(valid_df.values[:,-2],valid_df[valid_df.columns[:-2]].values)\n",
    "testdataset=Label_Dataset(test_df.values[:,-2],test_df[test_df.columns[:-2]].values)\n",
    "train_dataloader=DataLoader(traindataset,batch_size=64,shuffle=True)\n",
    "valid_dataloader=DataLoader(validdataset,batch_size=64,shuffle=True)\n",
    "test_dataloader=DataLoader(testdataset,batch_size=64,shuffle=False)\n",
    "\n",
    "new_data_df.columns=class_list+['text','file']\n",
    "new_data_df.to_csv('./new_data_df.csv',index=False)"
   ]
  },
  {
   "cell_type": "code",
   "execution_count": null,
   "id": "96b6fe7a",
   "metadata": {},
   "outputs": [],
   "source": []
  },
  {
   "cell_type": "code",
   "execution_count": null,
   "id": "12530295",
   "metadata": {},
   "outputs": [],
   "source": []
  },
  {
   "cell_type": "code",
   "execution_count": null,
   "id": "1edc4b39",
   "metadata": {},
   "outputs": [],
   "source": []
  },
  {
   "cell_type": "code",
   "execution_count": 7,
   "id": "889b4ab2-fbfe-4f34-bd82-73dbc321dc7e",
   "metadata": {
    "scrolled": true
   },
   "outputs": [
    {
     "name": "stderr",
     "output_type": "stream",
     "text": [
      "Some weights of AlbertModel were not initialized from the model checkpoint at ./albert/small// and are newly initialized: ['albert.pooler.bias', 'albert.pooler.weight']\n",
      "You should probably TRAIN this model on a down-stream task to be able to use it for predictions and inference.\n"
     ]
    }
   ],
   "source": [
    "#=============加载分词器=============\n",
    "pretrained_weights='./albert/small//'\n",
    "tokenizer=BertTokenizer.from_pretrained(pretrained_weights)\n",
    "config=AlbertConfig.from_pretrained(pretrained_weights,num_labels=len(class_list))\n",
    "config.number_class=len(class_list)\n",
    "\n",
    "#============加载模型==============\n",
    "max_length=128\n",
    "device=torch.device('cuda:0' if torch.cuda.is_available() else 'cpu')\n",
    "#device='cpu'\n",
    "model=MyModel_1(config)\n",
    "optimizer = torch.optim.AdamW(model.parameters(), lr=5e-5)\n",
    "loss_func = torch.nn.BCELoss()#torch.nn.CrossEntropyLoss()\n",
    "model=model.to(device)"
   ]
  },
  {
   "cell_type": "code",
   "execution_count": 8,
   "id": "48535148-c211-4328-8ac5-001ed5e8d759",
   "metadata": {},
   "outputs": [
    {
     "data": {
      "application/vnd.jupyter.widget-view+json": {
       "model_id": "3bc4965a46f24e5c9bfb45b4e7622340",
       "version_major": 2,
       "version_minor": 0
      },
      "text/plain": [
       "  0%|          | 0/212 [00:00<?, ?it/s]"
      ]
     },
     "metadata": {},
     "output_type": "display_data"
    },
    {
     "name": "stdout",
     "output_type": "stream",
     "text": [
      "epoch=1, Train loss: 0.0024797069730444392, Valid loss: 0.001532811033860167, Valid result: acc    0.970525\n",
      "pre    0.164165\n",
      "rec    0.155696\n",
      "f1     0.159750\n",
      "dtype: float64\n"
     ]
    },
    {
     "data": {
      "application/vnd.jupyter.widget-view+json": {
       "model_id": "e1c1b4586c7a4e73915dd0cda715f15f",
       "version_major": 2,
       "version_minor": 0
      },
      "text/plain": [
       "  0%|          | 0/212 [00:00<?, ?it/s]"
      ]
     },
     "metadata": {},
     "output_type": "display_data"
    },
    {
     "name": "stdout",
     "output_type": "stream",
     "text": [
      "epoch=2, Train loss: 0.0014954482853298122, Valid loss: 0.0012219040487689257, Valid result: acc    0.975659\n",
      "pre    0.434461\n",
      "rec    0.274081\n",
      "f1     0.314673\n",
      "dtype: float64\n"
     ]
    },
    {
     "data": {
      "application/vnd.jupyter.widget-view+json": {
       "model_id": "3fd862266c9447b4bc5b2350bd41d01e",
       "version_major": 2,
       "version_minor": 0
      },
      "text/plain": [
       "  0%|          | 0/212 [00:00<?, ?it/s]"
      ]
     },
     "metadata": {},
     "output_type": "display_data"
    },
    {
     "name": "stdout",
     "output_type": "stream",
     "text": [
      "epoch=3, Train loss: 0.0012691754328085045, Valid loss: 0.0011665996777713659, Valid result: acc    0.976062\n",
      "pre    0.546740\n",
      "rec    0.409877\n",
      "f1     0.451675\n",
      "dtype: float64\n"
     ]
    },
    {
     "data": {
      "application/vnd.jupyter.widget-view+json": {
       "model_id": "e28028ba5e41472aae7b2c0999ddf098",
       "version_major": 2,
       "version_minor": 0
      },
      "text/plain": [
       "  0%|          | 0/212 [00:00<?, ?it/s]"
      ]
     },
     "metadata": {},
     "output_type": "display_data"
    },
    {
     "name": "stdout",
     "output_type": "stream",
     "text": [
      "epoch=4, Train loss: 0.0011377467358083268, Valid loss: 0.0011285058223836325, Valid result: acc    0.976465\n",
      "pre    0.603840\n",
      "rec    0.399246\n",
      "f1     0.455271\n",
      "dtype: float64\n"
     ]
    },
    {
     "data": {
      "application/vnd.jupyter.widget-view+json": {
       "model_id": "72aadce02c5f4b1da55fdf5b096b0f3a",
       "version_major": 2,
       "version_minor": 0
      },
      "text/plain": [
       "  0%|          | 0/212 [00:00<?, ?it/s]"
      ]
     },
     "metadata": {},
     "output_type": "display_data"
    },
    {
     "name": "stdout",
     "output_type": "stream",
     "text": [
      "epoch=5, Train loss: 0.0010574993194228564, Valid loss: 0.0010087224825514548, Valid result: acc    0.978202\n",
      "pre    0.625858\n",
      "rec    0.441038\n",
      "f1     0.487601\n",
      "dtype: float64\n"
     ]
    },
    {
     "data": {
      "application/vnd.jupyter.widget-view+json": {
       "model_id": "8e12393a2ffb4c0cbb1be45d90c05abc",
       "version_major": 2,
       "version_minor": 0
      },
      "text/plain": [
       "  0%|          | 0/212 [00:00<?, ?it/s]"
      ]
     },
     "metadata": {},
     "output_type": "display_data"
    },
    {
     "name": "stdout",
     "output_type": "stream",
     "text": [
      "epoch=6, Train loss: 0.0009267758311065486, Valid loss: 0.0009737021701978283, Valid result: acc    0.979863\n",
      "pre    0.665675\n",
      "rec    0.480044\n",
      "f1     0.534386\n",
      "dtype: float64\n"
     ]
    },
    {
     "data": {
      "application/vnd.jupyter.widget-view+json": {
       "model_id": "1b9c8fba564e41f1a5c06d007482f025",
       "version_major": 2,
       "version_minor": 0
      },
      "text/plain": [
       "  0%|          | 0/212 [00:00<?, ?it/s]"
      ]
     },
     "metadata": {},
     "output_type": "display_data"
    },
    {
     "name": "stdout",
     "output_type": "stream",
     "text": [
      "epoch=7, Train loss: 0.0008460206544053983, Valid loss: 0.0009666960446394311, Valid result: acc    0.979737\n",
      "pre    0.635381\n",
      "rec    0.510956\n",
      "f1     0.544503\n",
      "dtype: float64\n"
     ]
    },
    {
     "data": {
      "application/vnd.jupyter.widget-view+json": {
       "model_id": "e1366b33217547ef8aa8cf637f112277",
       "version_major": 2,
       "version_minor": 0
      },
      "text/plain": [
       "  0%|          | 0/212 [00:00<?, ?it/s]"
      ]
     },
     "metadata": {},
     "output_type": "display_data"
    },
    {
     "name": "stdout",
     "output_type": "stream",
     "text": [
      "epoch=8, Train loss: 0.000755178457910771, Valid loss: 0.0009770188203056733, Valid result: acc    0.980165\n",
      "pre    0.695794\n",
      "rec    0.549080\n",
      "f1     0.590400\n",
      "dtype: float64\n"
     ]
    },
    {
     "data": {
      "application/vnd.jupyter.widget-view+json": {
       "model_id": "b57b647e22e646c5ad375a847a0dcba7",
       "version_major": 2,
       "version_minor": 0
      },
      "text/plain": [
       "  0%|          | 0/212 [00:00<?, ?it/s]"
      ]
     },
     "metadata": {},
     "output_type": "display_data"
    },
    {
     "name": "stdout",
     "output_type": "stream",
     "text": [
      "epoch=9, Train loss: 0.0007278571112869462, Valid loss: 0.0009641298739913967, Valid result: acc    0.980039\n",
      "pre    0.654755\n",
      "rec    0.519736\n",
      "f1     0.566632\n",
      "dtype: float64\n"
     ]
    },
    {
     "data": {
      "application/vnd.jupyter.widget-view+json": {
       "model_id": "bd1a82e033dd4f51971de0256329c4fb",
       "version_major": 2,
       "version_minor": 0
      },
      "text/plain": [
       "  0%|          | 0/212 [00:00<?, ?it/s]"
      ]
     },
     "metadata": {},
     "output_type": "display_data"
    },
    {
     "name": "stdout",
     "output_type": "stream",
     "text": [
      "epoch=10, Train loss: 0.0006753791735243441, Valid loss: 0.0009634549558114679, Valid result: acc    0.979863\n",
      "pre    0.679821\n",
      "rec    0.549230\n",
      "f1     0.596626\n",
      "dtype: float64\n"
     ]
    },
    {
     "data": {
      "application/vnd.jupyter.widget-view+json": {
       "model_id": "448f7781ba9444e9bf1029583ccf8f8d",
       "version_major": 2,
       "version_minor": 0
      },
      "text/plain": [
       "  0%|          | 0/212 [00:00<?, ?it/s]"
      ]
     },
     "metadata": {},
     "output_type": "display_data"
    },
    {
     "name": "stdout",
     "output_type": "stream",
     "text": [
      "epoch=11, Train loss: 0.0005732391372838312, Valid loss: 0.0009710709344966249, Valid result: acc    0.979788\n",
      "pre    0.673864\n",
      "rec    0.575655\n",
      "f1     0.610945\n",
      "dtype: float64\n"
     ]
    },
    {
     "data": {
      "application/vnd.jupyter.widget-view+json": {
       "model_id": "cfdcb51d42d24e338439e4c529831c77",
       "version_major": 2,
       "version_minor": 0
      },
      "text/plain": [
       "  0%|          | 0/212 [00:00<?, ?it/s]"
      ]
     },
     "metadata": {},
     "output_type": "display_data"
    },
    {
     "name": "stdout",
     "output_type": "stream",
     "text": [
      "epoch=12, Train loss: 0.0005162356644169705, Valid loss: 0.0009685289737345757, Valid result: acc    0.980568\n",
      "pre    0.677654\n",
      "rec    0.588227\n",
      "f1     0.625789\n",
      "dtype: float64\n"
     ]
    },
    {
     "data": {
      "application/vnd.jupyter.widget-view+json": {
       "model_id": "8d1b6a54a02b4bd1a5496c64ffd94db0",
       "version_major": 2,
       "version_minor": 0
      },
      "text/plain": [
       "  0%|          | 0/212 [00:00<?, ?it/s]"
      ]
     },
     "metadata": {},
     "output_type": "display_data"
    },
    {
     "name": "stdout",
     "output_type": "stream",
     "text": [
      "epoch=13, Train loss: 0.0004801599109151461, Valid loss: 0.0009325818082545008, Valid result: acc    0.981147\n",
      "pre    0.687695\n",
      "rec    0.608815\n",
      "f1     0.632877\n",
      "dtype: float64\n"
     ]
    },
    {
     "data": {
      "application/vnd.jupyter.widget-view+json": {
       "model_id": "38b55e9fd93a458d88afd3bf5eeb9602",
       "version_major": 2,
       "version_minor": 0
      },
      "text/plain": [
       "  0%|          | 0/212 [00:00<?, ?it/s]"
      ]
     },
     "metadata": {},
     "output_type": "display_data"
    },
    {
     "name": "stdout",
     "output_type": "stream",
     "text": [
      "epoch=14, Train loss: 0.000433042431100201, Valid loss: 0.0009836625522343901, Valid result: acc    0.980870\n",
      "pre    0.684615\n",
      "rec    0.594459\n",
      "f1     0.629334\n",
      "dtype: float64\n"
     ]
    },
    {
     "data": {
      "application/vnd.jupyter.widget-view+json": {
       "model_id": "fe5b88bbb07240ea88dda12f16ced7df",
       "version_major": 2,
       "version_minor": 0
      },
      "text/plain": [
       "  0%|          | 0/212 [00:00<?, ?it/s]"
      ]
     },
     "metadata": {},
     "output_type": "display_data"
    },
    {
     "name": "stdout",
     "output_type": "stream",
     "text": [
      "epoch=15, Train loss: 0.0004210057834228543, Valid loss: 0.0009680200162622364, Valid result: acc    0.980341\n",
      "pre    0.657201\n",
      "rec    0.602732\n",
      "f1     0.626848\n",
      "dtype: float64\n"
     ]
    }
   ],
   "source": [
    "loss_list,result_dict={},{}\n",
    "best_f1=0\n",
    "for epoch in range(15):\n",
    "  \n",
    "    model.train()\n",
    "    loss_total=0\n",
    "    preds=[]\n",
    "    trues=[]\n",
    "    count=0\n",
    "    for (x,y) in tqdm(train_dataloader):\n",
    "        token_x=tokenizer.batch_encode_plus(x,max_length=max_length,pad_to_max_length=True,truncation=True)\n",
    "        token_x_input_ids=token_x['input_ids']\n",
    "        token_x_attention_mask=token_x['attention_mask']\n",
    "        token_x_input_ids=torch.tensor(token_x_input_ids).to(device)\n",
    "        token_x_attention_mask=torch.tensor(token_x_attention_mask).to(device)\n",
    "        token_y=y.to(device)\n",
    "\n",
    "        optimizer.zero_grad()\n",
    "        out=model(token_x_input_ids, token_x_attention_mask)#预测\n",
    "        loss=loss_func(out,token_y.float())#计算损失值\n",
    "\n",
    "        loss.backward()#反馈损失\n",
    "        optimizer.step()#迭代\n",
    "        loss_total+=loss.item()\n",
    "        count+=len(x)\n",
    "\n",
    "        #收集结果\n",
    "        pred=(out>0.5).int().detach().to('cpu').numpy()\n",
    "        true=token_y.detach().to('cpu').numpy()\n",
    "        preds+=list(pred)\n",
    "        trues+=list(true)\n",
    "\n",
    "    train_true_pred,train_result=get_each_label_result(trues,preds)\n",
    "    train_result_df=pd.DataFrame(train_result,index=class_list,columns=['acc','pre','rec','f1'])\n",
    "    train_loss=loss_total/count\n",
    "\n",
    "    valid_result_df,valid_true_pred,valid_loss=test_func(model,valid_dataloader)\n",
    "\n",
    "    #=================记录所有结果=============\n",
    "    loss_list[epoch+1]=[train_loss,valid_loss]\n",
    "    result_dict[epoch+1]={'train':train_result_df,'valid':valid_result_df}\n",
    "    if valid_result_df.mean()['f1']>best_f1:\n",
    "        best_f1=valid_result_df.mean()['f1']\n",
    "        torch.save(model, 'best_model.pth')\n",
    "    print(f'epoch={epoch+1}, Train loss: {train_loss}, Valid loss: {valid_loss}, Valid result: {valid_result_df.mean()}')"
   ]
  },
  {
   "cell_type": "code",
   "execution_count": 13,
   "id": "2be63cce-2a84-468d-a8ef-0f060e20286e",
   "metadata": {},
   "outputs": [
    {
     "data": {
      "image/png": "[encoded data removed]",
      "text/plain": [
       "<Figure size 640x480 with 2 Axes>"
      ]
     },
     "metadata": {},
     "output_type": "display_data"
    }
   ],
   "source": [
    "#================损失值变化曲线可视化==================\n",
    "loss_list_df=pd.DataFrame(loss_list,index=['train_loss','valid_loss']).T\n",
    "loss_list_df.to_csv('./loss_list_df.csv')\n",
    "loss_list_df.plot(subplots=True)\n",
    "plt.xlabel('Epochs')\n",
    "plt.ylabel('Loss')\n",
    "plt.savefig('./Loss.png',dpi=400)\n",
    "plt.show()"
   ]
  },
  {
   "cell_type": "code",
   "execution_count": 16,
   "id": "fdbc7a18-4a21-47a5-9c3e-9c83cfb74cb0",
   "metadata": {},
   "outputs": [
    {
     "data": {
      "text/html": [
       "<div>\n",
       "<style scoped>\n",
       "    .dataframe tbody tr th:only-of-type {\n",
       "        vertical-align: middle;\n",
       "    }\n",
       "\n",
       "    .dataframe tbody tr th {\n",
       "        vertical-align: top;\n",
       "    }\n",
       "\n",
       "    .dataframe thead th {\n",
       "        text-align: right;\n",
       "    }\n",
       "</style>\n",
       "<table border=\"1\" class=\"dataframe\">\n",
       "  <thead>\n",
       "    <tr style=\"text-align: right;\">\n",
       "      <th></th>\n",
       "      <th>acc</th>\n",
       "      <th>pre</th>\n",
       "      <th>rec</th>\n",
       "      <th>f1</th>\n",
       "    </tr>\n",
       "  </thead>\n",
       "  <tbody>\n",
       "    <tr>\n",
       "      <th>epistemic copulas</th>\n",
       "      <td>0.997709</td>\n",
       "      <td>0.929688</td>\n",
       "      <td>0.843972</td>\n",
       "      <td>0.884758</td>\n",
       "    </tr>\n",
       "    <tr>\n",
       "      <th>formulaic responses</th>\n",
       "      <td>0.976799</td>\n",
       "      <td>0.875294</td>\n",
       "      <td>0.781513</td>\n",
       "      <td>0.825749</td>\n",
       "    </tr>\n",
       "    <tr>\n",
       "      <th>question-based responses</th>\n",
       "      <td>0.986478</td>\n",
       "      <td>0.834008</td>\n",
       "      <td>0.591954</td>\n",
       "      <td>0.692437</td>\n",
       "    </tr>\n",
       "    <tr>\n",
       "      <th>non-factive verb phrase structure</th>\n",
       "      <td>0.999631</td>\n",
       "      <td>0.000000</td>\n",
       "      <td>0.000000</td>\n",
       "      <td>0.000000</td>\n",
       "    </tr>\n",
       "    <tr>\n",
       "      <th>impersonal subject + non-factive verb + NP</th>\n",
       "      <td>0.997636</td>\n",
       "      <td>0.909091</td>\n",
       "      <td>0.243902</td>\n",
       "      <td>0.384615</td>\n",
       "    </tr>\n",
       "    <tr>\n",
       "      <th>reference word</th>\n",
       "      <td>0.990838</td>\n",
       "      <td>0.985164</td>\n",
       "      <td>0.989927</td>\n",
       "      <td>0.987540</td>\n",
       "    </tr>\n",
       "    <tr>\n",
       "      <th>routinized resources</th>\n",
       "      <td>0.983375</td>\n",
       "      <td>0.783133</td>\n",
       "      <td>0.706522</td>\n",
       "      <td>0.742857</td>\n",
       "    </tr>\n",
       "    <tr>\n",
       "      <th>noun &amp; verb collocation in proper form</th>\n",
       "      <td>0.985961</td>\n",
       "      <td>0.970863</td>\n",
       "      <td>0.958687</td>\n",
       "      <td>0.964736</td>\n",
       "    </tr>\n",
       "    <tr>\n",
       "      <th>collaborative finishes</th>\n",
       "      <td>0.995271</td>\n",
       "      <td>0.802083</td>\n",
       "      <td>0.631148</td>\n",
       "      <td>0.706422</td>\n",
       "    </tr>\n",
       "    <tr>\n",
       "      <th>tense choice to indicate interactive aims</th>\n",
       "      <td>0.994680</td>\n",
       "      <td>0.957211</td>\n",
       "      <td>0.930663</td>\n",
       "      <td>0.943750</td>\n",
       "    </tr>\n",
       "    <tr>\n",
       "      <th>negotiation of meaning</th>\n",
       "      <td>0.991798</td>\n",
       "      <td>0.849558</td>\n",
       "      <td>0.713755</td>\n",
       "      <td>0.775758</td>\n",
       "    </tr>\n",
       "    <tr>\n",
       "      <th>code-switching for communicative purposes</th>\n",
       "      <td>0.999557</td>\n",
       "      <td>0.976744</td>\n",
       "      <td>0.954545</td>\n",
       "      <td>0.965517</td>\n",
       "    </tr>\n",
       "    <tr>\n",
       "      <th>feedback in the next turn</th>\n",
       "      <td>0.972218</td>\n",
       "      <td>0.842424</td>\n",
       "      <td>0.833762</td>\n",
       "      <td>0.838071</td>\n",
       "    </tr>\n",
       "    <tr>\n",
       "      <th>epistemic modals</th>\n",
       "      <td>0.997783</td>\n",
       "      <td>0.909091</td>\n",
       "      <td>0.945274</td>\n",
       "      <td>0.926829</td>\n",
       "    </tr>\n",
       "    <tr>\n",
       "      <th>backchannels</th>\n",
       "      <td>0.982858</td>\n",
       "      <td>0.824742</td>\n",
       "      <td>0.731261</td>\n",
       "      <td>0.775194</td>\n",
       "    </tr>\n",
       "    <tr>\n",
       "      <th>subordinate clauses</th>\n",
       "      <td>0.990025</td>\n",
       "      <td>0.960184</td>\n",
       "      <td>0.937921</td>\n",
       "      <td>0.948922</td>\n",
       "    </tr>\n",
       "  </tbody>\n",
       "</table>\n",
       "</div>"
      ],
      "text/plain": [
       "                                                 acc       pre       rec  \\\n",
       "epistemic copulas                           0.997709  0.929688  0.843972   \n",
       "formulaic responses                         0.976799  0.875294  0.781513   \n",
       "question-based responses                    0.986478  0.834008  0.591954   \n",
       "non-factive verb phrase structure           0.999631  0.000000  0.000000   \n",
       "impersonal subject + non-factive verb + NP  0.997636  0.909091  0.243902   \n",
       "reference word                              0.990838  0.985164  0.989927   \n",
       "routinized resources                        0.983375  0.783133  0.706522   \n",
       "noun & verb collocation in proper form      0.985961  0.970863  0.958687   \n",
       "collaborative finishes                      0.995271  0.802083  0.631148   \n",
       "tense choice to indicate interactive aims   0.994680  0.957211  0.930663   \n",
       "negotiation of meaning                      0.991798  0.849558  0.713755   \n",
       "code-switching for communicative purposes   0.999557  0.976744  0.954545   \n",
       "feedback in the next turn                   0.972218  0.842424  0.833762   \n",
       "epistemic modals                            0.997783  0.909091  0.945274   \n",
       "backchannels                                0.982858  0.824742  0.731261   \n",
       "subordinate clauses                         0.990025  0.960184  0.937921   \n",
       "\n",
       "                                                  f1  \n",
       "epistemic copulas                           0.884758  \n",
       "formulaic responses                         0.825749  \n",
       "question-based responses                    0.692437  \n",
       "non-factive verb phrase structure           0.000000  \n",
       "impersonal subject + non-factive verb + NP  0.384615  \n",
       "reference word                              0.987540  \n",
       "routinized resources                        0.742857  \n",
       "noun & verb collocation in proper form      0.964736  \n",
       "collaborative finishes                      0.706422  \n",
       "tense choice to indicate interactive aims   0.943750  \n",
       "negotiation of meaning                      0.775758  \n",
       "code-switching for communicative purposes   0.965517  \n",
       "feedback in the next turn                   0.838071  \n",
       "epistemic modals                            0.926829  \n",
       "backchannels                                0.775194  \n",
       "subordinate clauses                         0.948922  "
      ]
     },
     "execution_count": 16,
     "metadata": {},
     "output_type": "execute_result"
    }
   ],
   "source": [
    "result_dict[15]['train']"
   ]
  },
  {
   "cell_type": "code",
   "execution_count": 17,
   "id": "1426c422-0ee7-4e49-b89d-705c738024ca",
   "metadata": {},
   "outputs": [
    {
     "data": {
      "text/html": [
       "<div>\n",
       "<style scoped>\n",
       "    .dataframe tbody tr th:only-of-type {\n",
       "        vertical-align: middle;\n",
       "    }\n",
       "\n",
       "    .dataframe tbody tr th {\n",
       "        vertical-align: top;\n",
       "    }\n",
       "\n",
       "    .dataframe thead th {\n",
       "        text-align: right;\n",
       "    }\n",
       "</style>\n",
       "<table border=\"1\" class=\"dataframe\">\n",
       "  <thead>\n",
       "    <tr style=\"text-align: right;\">\n",
       "      <th></th>\n",
       "      <th>acc</th>\n",
       "      <th>pre</th>\n",
       "      <th>rec</th>\n",
       "      <th>f1</th>\n",
       "    </tr>\n",
       "  </thead>\n",
       "  <tbody>\n",
       "    <tr>\n",
       "      <th>epistemic copulas</th>\n",
       "      <td>0.995570</td>\n",
       "      <td>0.700000</td>\n",
       "      <td>0.736842</td>\n",
       "      <td>0.717949</td>\n",
       "    </tr>\n",
       "    <tr>\n",
       "      <th>formulaic responses</th>\n",
       "      <td>0.951269</td>\n",
       "      <td>0.559441</td>\n",
       "      <td>0.579710</td>\n",
       "      <td>0.569395</td>\n",
       "    </tr>\n",
       "    <tr>\n",
       "      <th>question-based responses</th>\n",
       "      <td>0.972614</td>\n",
       "      <td>0.500000</td>\n",
       "      <td>0.426471</td>\n",
       "      <td>0.460317</td>\n",
       "    </tr>\n",
       "    <tr>\n",
       "      <th>non-factive verb phrase structure</th>\n",
       "      <td>0.999195</td>\n",
       "      <td>0.000000</td>\n",
       "      <td>0.000000</td>\n",
       "      <td>0.000000</td>\n",
       "    </tr>\n",
       "    <tr>\n",
       "      <th>impersonal subject + non-factive verb + NP</th>\n",
       "      <td>0.998792</td>\n",
       "      <td>0.000000</td>\n",
       "      <td>0.000000</td>\n",
       "      <td>0.000000</td>\n",
       "    </tr>\n",
       "    <tr>\n",
       "      <th>reference word</th>\n",
       "      <td>0.987515</td>\n",
       "      <td>0.982379</td>\n",
       "      <td>0.983462</td>\n",
       "      <td>0.982920</td>\n",
       "    </tr>\n",
       "    <tr>\n",
       "      <th>routinized resources</th>\n",
       "      <td>0.971808</td>\n",
       "      <td>0.564516</td>\n",
       "      <td>0.448718</td>\n",
       "      <td>0.500000</td>\n",
       "    </tr>\n",
       "    <tr>\n",
       "      <th>noun &amp; verb collocation in proper form</th>\n",
       "      <td>0.972211</td>\n",
       "      <td>0.953642</td>\n",
       "      <td>0.900000</td>\n",
       "      <td>0.926045</td>\n",
       "    </tr>\n",
       "    <tr>\n",
       "      <th>collaborative finishes</th>\n",
       "      <td>0.988321</td>\n",
       "      <td>0.565217</td>\n",
       "      <td>0.406250</td>\n",
       "      <td>0.472727</td>\n",
       "    </tr>\n",
       "    <tr>\n",
       "      <th>tense choice to indicate interactive aims</th>\n",
       "      <td>0.990737</td>\n",
       "      <td>0.915663</td>\n",
       "      <td>0.826087</td>\n",
       "      <td>0.868571</td>\n",
       "    </tr>\n",
       "    <tr>\n",
       "      <th>negotiation of meaning</th>\n",
       "      <td>0.971003</td>\n",
       "      <td>0.560606</td>\n",
       "      <td>0.462500</td>\n",
       "      <td>0.506849</td>\n",
       "    </tr>\n",
       "    <tr>\n",
       "      <th>code-switching for communicative purposes</th>\n",
       "      <td>0.999597</td>\n",
       "      <td>1.000000</td>\n",
       "      <td>0.941176</td>\n",
       "      <td>0.969697</td>\n",
       "    </tr>\n",
       "    <tr>\n",
       "      <th>feedback in the next turn</th>\n",
       "      <td>0.951671</td>\n",
       "      <td>0.679070</td>\n",
       "      <td>0.741117</td>\n",
       "      <td>0.708738</td>\n",
       "    </tr>\n",
       "    <tr>\n",
       "      <th>epistemic modals</th>\n",
       "      <td>0.995167</td>\n",
       "      <td>0.973684</td>\n",
       "      <td>0.770833</td>\n",
       "      <td>0.860465</td>\n",
       "    </tr>\n",
       "    <tr>\n",
       "      <th>backchannels</th>\n",
       "      <td>0.975836</td>\n",
       "      <td>0.697368</td>\n",
       "      <td>0.588889</td>\n",
       "      <td>0.638554</td>\n",
       "    </tr>\n",
       "    <tr>\n",
       "      <th>subordinate clauses</th>\n",
       "      <td>0.964156</td>\n",
       "      <td>0.863636</td>\n",
       "      <td>0.831650</td>\n",
       "      <td>0.847341</td>\n",
       "    </tr>\n",
       "  </tbody>\n",
       "</table>\n",
       "</div>"
      ],
      "text/plain": [
       "                                                 acc       pre       rec  \\\n",
       "epistemic copulas                           0.995570  0.700000  0.736842   \n",
       "formulaic responses                         0.951269  0.559441  0.579710   \n",
       "question-based responses                    0.972614  0.500000  0.426471   \n",
       "non-factive verb phrase structure           0.999195  0.000000  0.000000   \n",
       "impersonal subject + non-factive verb + NP  0.998792  0.000000  0.000000   \n",
       "reference word                              0.987515  0.982379  0.983462   \n",
       "routinized resources                        0.971808  0.564516  0.448718   \n",
       "noun & verb collocation in proper form      0.972211  0.953642  0.900000   \n",
       "collaborative finishes                      0.988321  0.565217  0.406250   \n",
       "tense choice to indicate interactive aims   0.990737  0.915663  0.826087   \n",
       "negotiation of meaning                      0.971003  0.560606  0.462500   \n",
       "code-switching for communicative purposes   0.999597  1.000000  0.941176   \n",
       "feedback in the next turn                   0.951671  0.679070  0.741117   \n",
       "epistemic modals                            0.995167  0.973684  0.770833   \n",
       "backchannels                                0.975836  0.697368  0.588889   \n",
       "subordinate clauses                         0.964156  0.863636  0.831650   \n",
       "\n",
       "                                                  f1  \n",
       "epistemic copulas                           0.717949  \n",
       "formulaic responses                         0.569395  \n",
       "question-based responses                    0.460317  \n",
       "non-factive verb phrase structure           0.000000  \n",
       "impersonal subject + non-factive verb + NP  0.000000  \n",
       "reference word                              0.982920  \n",
       "routinized resources                        0.500000  \n",
       "noun & verb collocation in proper form      0.926045  \n",
       "collaborative finishes                      0.472727  \n",
       "tense choice to indicate interactive aims   0.868571  \n",
       "negotiation of meaning                      0.506849  \n",
       "code-switching for communicative purposes   0.969697  \n",
       "feedback in the next turn                   0.708738  \n",
       "epistemic modals                            0.860465  \n",
       "backchannels                                0.638554  \n",
       "subordinate clauses                         0.847341  "
      ]
     },
     "execution_count": 17,
     "metadata": {},
     "output_type": "execute_result"
    }
   ],
   "source": [
    "result_dict[15]['valid']"
   ]
  },
  {
   "cell_type": "code",
   "execution_count": 18,
   "id": "75321f89-be69-41d2-a7e2-17744ed1f50b",
   "metadata": {},
   "outputs": [
    {
     "ename": "TypeError",
     "evalue": "only length-1 arrays can be converted to Python scalars",
     "output_type": "error",
     "traceback": [
      "\u001b[1;31m---------------------------------------------------------------------------\u001b[0m",
      "\u001b[1;31mTypeError\u001b[0m                                 Traceback (most recent call last)",
      "Cell \u001b[1;32mIn[18], line 1\u001b[0m\n\u001b[1;32m----> 1\u001b[0m plt\u001b[38;5;241m.\u001b[39mfigure(train_result_df\u001b[38;5;241m.\u001b[39mplot\u001b[38;5;241m.\u001b[39mbar(subplots\u001b[38;5;241m=\u001b[39m\u001b[38;5;28;01mTrue\u001b[39;00m,figsize\u001b[38;5;241m=\u001b[39m(\u001b[38;5;241m10\u001b[39m,\u001b[38;5;241m10\u001b[39m),layout\u001b[38;5;241m=\u001b[39m(\u001b[38;5;241m2\u001b[39m,\u001b[38;5;241m2\u001b[39m),legend\u001b[38;5;241m=\u001b[39m\u001b[38;5;28;01mFalse\u001b[39;00m))\n",
      "File \u001b[1;32mc:\\Users\\Rena2\\anaconda3\\Lib\\site-packages\\matplotlib\\pyplot.py:918\u001b[0m, in \u001b[0;36mfigure\u001b[1;34m(num, figsize, dpi, facecolor, edgecolor, frameon, FigureClass, clear, **kwargs)\u001b[0m\n\u001b[0;32m    916\u001b[0m         num \u001b[38;5;241m=\u001b[39m allnums[inum]\n\u001b[0;32m    917\u001b[0m \u001b[38;5;28;01melse\u001b[39;00m:\n\u001b[1;32m--> 918\u001b[0m     num \u001b[38;5;241m=\u001b[39m \u001b[38;5;28mint\u001b[39m(num)  \u001b[38;5;66;03m# crude validation of num argument\u001b[39;00m\n\u001b[0;32m    920\u001b[0m \u001b[38;5;66;03m# Type of \"num\" has narrowed to int, but mypy can't quite see it\u001b[39;00m\n\u001b[0;32m    921\u001b[0m manager \u001b[38;5;241m=\u001b[39m _pylab_helpers\u001b[38;5;241m.\u001b[39mGcf\u001b[38;5;241m.\u001b[39mget_fig_manager(num)  \u001b[38;5;66;03m# type: ignore[arg-type]\u001b[39;00m\n",
      "\u001b[1;31mTypeError\u001b[0m: only length-1 arrays can be converted to Python scalars"
     ]
    },
    {
     "data": {
      "image/png": "[encoded data removed]",
      "text/plain": [
       "<Figure size 1000x1000 with 4 Axes>"
      ]
     },
     "metadata": {},
     "output_type": "display_data"
    }
   ],
   "source": [
    "plt.figure(train_result_df.plot.bar(subplots=True,figsize=(10,10),layout=(2,2),legend=False))"
   ]
  },
  {
   "cell_type": "code",
   "execution_count": 19,
   "id": "170c5592",
   "metadata": {},
   "outputs": [],
   "source": [
    "best_model=torch.load('best_model.pth')"
   ]
  },
  {
   "cell_type": "code",
   "execution_count": 20,
   "id": "572683c3",
   "metadata": {},
   "outputs": [],
   "source": [
    "test_result_df,test_true_pred,test_loss=test_func(best_model,test_dataloader)"
   ]
  },
  {
   "cell_type": "code",
   "execution_count": 22,
   "id": "cf83e1ab",
   "metadata": {},
   "outputs": [],
   "source": [
    "test_result_df.to_csv('./test_result_df.csv')"
   ]
  },
  {
   "cell_type": "code",
   "execution_count": 34,
   "id": "5e6e5483",
   "metadata": {},
   "outputs": [],
   "source": [
    "test_pred_df=pd.concat([pd.DataFrame(test_true_pred[1],\n",
    "                                     index=test_df.index,\n",
    "                                     columns=class_list),test_df[test_df.columns[-2:]]],axis=1)\n",
    "test_pred_df.to_csv('./test_pred_df.csv')"
   ]
  },
  {
   "cell_type": "code",
   "execution_count": null,
   "id": "74f9a391",
   "metadata": {},
   "outputs": [],
   "source": []
  },
  {
   "cell_type": "code",
   "execution_count": null,
   "id": "c63bb8f3",
   "metadata": {},
   "outputs": [],
   "source": []
  },
  {
   "cell_type": "code",
   "execution_count": 65,
   "id": "013d7ef1",
   "metadata": {},
   "outputs": [],
   "source": [
    "#读取所有的数据\n",
    "all_data_dialog_1=pd.read_csv('./all_data_dialog.csv')\n",
    "all_score_1=pd.read_csv('./file_score.csv')\n",
    "all_score_1.columns=['file','score']"
   ]
  },
  {
   "cell_type": "code",
   "execution_count": 64,
   "id": "2a895fdd",
   "metadata": {},
   "outputs": [
    {
     "data": {
      "text/html": [
       "<div>\n",
       "<style scoped>\n",
       "    .dataframe tbody tr th:only-of-type {\n",
       "        vertical-align: middle;\n",
       "    }\n",
       "\n",
       "    .dataframe tbody tr th {\n",
       "        vertical-align: top;\n",
       "    }\n",
       "\n",
       "    .dataframe thead th {\n",
       "        text-align: right;\n",
       "    }\n",
       "</style>\n",
       "<table border=\"1\" class=\"dataframe\">\n",
       "  <thead>\n",
       "    <tr style=\"text-align: right;\">\n",
       "      <th></th>\n",
       "      <th>Unnamed: 0</th>\n",
       "      <th>0</th>\n",
       "    </tr>\n",
       "  </thead>\n",
       "  <tbody>\n",
       "    <tr>\n",
       "      <th>0</th>\n",
       "      <td>./CSL_FullAnnotation1/Annotated new data/begin...</td>\n",
       "      <td>3</td>\n",
       "    </tr>\n",
       "    <tr>\n",
       "      <th>1</th>\n",
       "      <td>./CSL_FullAnnotation1/Annotated new data/begin...</td>\n",
       "      <td>3</td>\n",
       "    </tr>\n",
       "    <tr>\n",
       "      <th>2</th>\n",
       "      <td>./CSL_FullAnnotation1/Annotated new data/begin...</td>\n",
       "      <td>4</td>\n",
       "    </tr>\n",
       "    <tr>\n",
       "      <th>3</th>\n",
       "      <td>./CSL_FullAnnotation1/Annotated new data/begin...</td>\n",
       "      <td>3</td>\n",
       "    </tr>\n",
       "    <tr>\n",
       "      <th>4</th>\n",
       "      <td>./CSL_FullAnnotation1/Annotated new data/begin...</td>\n",
       "      <td>4</td>\n",
       "    </tr>\n",
       "    <tr>\n",
       "      <th>...</th>\n",
       "      <td>...</td>\n",
       "      <td>...</td>\n",
       "    </tr>\n",
       "    <tr>\n",
       "      <th>402</th>\n",
       "      <td>./CSL_FullAnnotation1/第二次正式数据/Low2-3 F.xlsx</td>\n",
       "      <td>4</td>\n",
       "    </tr>\n",
       "    <tr>\n",
       "      <th>403</th>\n",
       "      <td>./CSL_FullAnnotation1/第二次正式数据/Low2-4.xlsx</td>\n",
       "      <td>5</td>\n",
       "    </tr>\n",
       "    <tr>\n",
       "      <th>404</th>\n",
       "      <td>./CSL_FullAnnotation1/第二次正式数据/Low2-5.xlsx</td>\n",
       "      <td>4</td>\n",
       "    </tr>\n",
       "    <tr>\n",
       "      <th>405</th>\n",
       "      <td>./CSL_FullAnnotation1/第二次正式数据/Low2-6.xlsx</td>\n",
       "      <td>4</td>\n",
       "    </tr>\n",
       "    <tr>\n",
       "      <th>406</th>\n",
       "      <td>./CSL_FullAnnotation1/第二次正式数据/Low2-7.xlsx</td>\n",
       "      <td>5</td>\n",
       "    </tr>\n",
       "  </tbody>\n",
       "</table>\n",
       "<p>407 rows × 2 columns</p>\n",
       "</div>"
      ],
      "text/plain": [
       "                                            Unnamed: 0  0\n",
       "0    ./CSL_FullAnnotation1/Annotated new data/begin...  3\n",
       "1    ./CSL_FullAnnotation1/Annotated new data/begin...  3\n",
       "2    ./CSL_FullAnnotation1/Annotated new data/begin...  4\n",
       "3    ./CSL_FullAnnotation1/Annotated new data/begin...  3\n",
       "4    ./CSL_FullAnnotation1/Annotated new data/begin...  4\n",
       "..                                                 ... ..\n",
       "402        ./CSL_FullAnnotation1/第二次正式数据/Low2-3 F.xlsx  4\n",
       "403          ./CSL_FullAnnotation1/第二次正式数据/Low2-4.xlsx  5\n",
       "404          ./CSL_FullAnnotation1/第二次正式数据/Low2-5.xlsx  4\n",
       "405          ./CSL_FullAnnotation1/第二次正式数据/Low2-6.xlsx  4\n",
       "406          ./CSL_FullAnnotation1/第二次正式数据/Low2-7.xlsx  5\n",
       "\n",
       "[407 rows x 2 columns]"
      ]
     },
     "execution_count": 64,
     "metadata": {},
     "output_type": "execute_result"
    }
   ],
   "source": [
    "all_score_1"
   ]
  },
  {
   "cell_type": "code",
   "execution_count": null,
   "id": "316fae3c",
   "metadata": {},
   "outputs": [],
   "source": []
  },
  {
   "cell_type": "code",
   "execution_count": null,
   "id": "e4928736",
   "metadata": {},
   "outputs": [],
   "source": []
  }
 ],
 "metadata": {
  "kernelspec": {
   "display_name": "Python 3 (ipykernel)",
   "language": "python",
   "name": "python3"
  },
  "language_info": {
   "codemirror_mode": {
    "name": "ipython",
    "version": 3
   },
   "file_extension": ".py",
   "mimetype": "text/x-python",
   "name": "python",
   "nbconvert_exporter": "python",
   "pygments_lexer": "ipython3",
   "version": "3.11.7"
  },
  "widgets": {
   "application/vnd.jupyter.widget-state+json": {
    "state": {
     "00d479cf0b0a4239be611ad215ee4046": {
      "model_module": "@jupyter-widgets/controls",
      "model_module_version": "2.0.0",
      "model_name": "ProgressStyleModel",
      "state": {
       "description_width": ""
      }
     },
     "0388e788c9dd42cc99e88b386763cb91": {
      "model_module": "@jupyter-widgets/controls",
      "model_module_version": "2.0.0",
      "model_name": "FloatProgressModel",
      "state": {
       "bar_style": "success",
       "layout": "IPY_MODEL_f1c413dc76804ec2854df8d6f0bc954c",
       "max": 111,
       "style": "IPY_MODEL_5a14de829d5c4cc69001b39cc4bd7441",
       "value": 111
      }
     },
     "03bf0c5dd0c94ac1a7d234158f470f7f": {
      "model_module": "@jupyter-widgets/base",
      "model_module_version": "2.0.0",
      "model_name": "LayoutModel",
      "state": {}
     },
     "0677b694b5964d529e11246627880454": {
      "model_module": "@jupyter-widgets/base",
      "model_module_version": "2.0.0",
      "model_name": "LayoutModel",
      "state": {}
     },
     "0a02e10b34e941e997b550dfca91e643": {
      "model_module": "@jupyter-widgets/controls",
      "model_module_version": "2.0.0",
      "model_name": "HTMLStyleModel",
      "state": {
       "description_width": "",
       "font_size": null,
       "text_color": null
      }
     },
     "0deb436f0fb844cbb537237560b34ee3": {
      "model_module": "@jupyter-widgets/controls",
      "model_module_version": "2.0.0",
      "model_name": "HTMLModel",
      "state": {
       "layout": "IPY_MODEL_fb3ec1b9bbf54d63abea2456f0829905",
       "style": "IPY_MODEL_1425e8bd741c41a99abd20e4f2622a0e",
       "value": " 111/111 [00:54&lt;00:00,  2.23it/s]"
      }
     },
     "10999a5fc8154c51bd70b1b2992480e1": {
      "model_module": "@jupyter-widgets/base",
      "model_module_version": "2.0.0",
      "model_name": "LayoutModel",
      "state": {}
     },
     "1425e8bd741c41a99abd20e4f2622a0e": {
      "model_module": "@jupyter-widgets/controls",
      "model_module_version": "2.0.0",
      "model_name": "HTMLStyleModel",
      "state": {
       "description_width": "",
       "font_size": null,
       "text_color": null
      }
     },
     "15fb5e03b605437db994a2d0fc3e5ea7": {
      "model_module": "@jupyter-widgets/base",
      "model_module_version": "2.0.0",
      "model_name": "LayoutModel",
      "state": {}
     },
     "1a48ce27b18f42058dd728562799eace": {
      "model_module": "@jupyter-widgets/base",
      "model_module_version": "2.0.0",
      "model_name": "LayoutModel",
      "state": {}
     },
     "1d04549466a94ba4b1309ca4a94844e9": {
      "model_module": "@jupyter-widgets/base",
      "model_module_version": "2.0.0",
      "model_name": "LayoutModel",
      "state": {}
     },
     "1ee2ba5cdb6a45e0912a9256a9ef922b": {
      "model_module": "@jupyter-widgets/controls",
      "model_module_version": "2.0.0",
      "model_name": "HTMLStyleModel",
      "state": {
       "description_width": "",
       "font_size": null,
       "text_color": null
      }
     },
     "217aefa745314e8d91221524a47e4c2a": {
      "model_module": "@jupyter-widgets/base",
      "model_module_version": "2.0.0",
      "model_name": "LayoutModel",
      "state": {}
     },
     "236466cb21b94c61963b7bae1eedbeda": {
      "model_module": "@jupyter-widgets/controls",
      "model_module_version": "2.0.0",
      "model_name": "HTMLModel",
      "state": {
       "layout": "IPY_MODEL_4313114d77cc411dbe39244931530852",
       "style": "IPY_MODEL_d23d7d99bf2e466b8d1c9ef8de1a9f26",
       "value": " 111/111 [01:02&lt;00:00,  2.17it/s]"
      }
     },
     "2633e01b779c4ed59387033fb4cb2f70": {
      "model_module": "@jupyter-widgets/base",
      "model_module_version": "2.0.0",
      "model_name": "LayoutModel",
      "state": {}
     },
     "26465e4185fe4508b7437f24d7edd9c4": {
      "model_module": "@jupyter-widgets/controls",
      "model_module_version": "2.0.0",
      "model_name": "HTMLStyleModel",
      "state": {
       "description_width": "",
       "font_size": null,
       "text_color": null
      }
     },
     "2fd12295b162417a87e28202b2e1d849": {
      "model_module": "@jupyter-widgets/controls",
      "model_module_version": "2.0.0",
      "model_name": "FloatProgressModel",
      "state": {
       "bar_style": "success",
       "layout": "IPY_MODEL_3e5942d139dc4dcd8c062698470bc79d",
       "max": 111,
       "style": "IPY_MODEL_44b5e5b9d9b04e1dafc2c1b0d3f4e57e",
       "value": 111
      }
     },
     "36253960f38a43cda6fd8993ad1296d1": {
      "model_module": "@jupyter-widgets/controls",
      "model_module_version": "2.0.0",
      "model_name": "HTMLModel",
      "state": {
       "layout": "IPY_MODEL_15fb5e03b605437db994a2d0fc3e5ea7",
       "style": "IPY_MODEL_4423c5072b84465ba193c849ea572d0a",
       "value": " 111/111 [00:53&lt;00:00,  2.12it/s]"
      }
     },
     "36879ba1af53483f85e0af10071eae1f": {
      "model_module": "@jupyter-widgets/controls",
      "model_module_version": "2.0.0",
      "model_name": "HTMLModel",
      "state": {
       "layout": "IPY_MODEL_1d04549466a94ba4b1309ca4a94844e9",
       "style": "IPY_MODEL_5366f6eb2bbe4d158a526f0a6c45bd06",
       "value": "100%"
      }
     },
     "3792c793b8934326ac4ae198d2dba647": {
      "model_module": "@jupyter-widgets/base",
      "model_module_version": "2.0.0",
      "model_name": "LayoutModel",
      "state": {}
     },
     "3e05041f2b51414b99c954e8803ae8de": {
      "model_module": "@jupyter-widgets/controls",
      "model_module_version": "2.0.0",
      "model_name": "FloatProgressModel",
      "state": {
       "bar_style": "success",
       "layout": "IPY_MODEL_f6f9c47cf8f6401888e464d393260f44",
       "max": 111,
       "style": "IPY_MODEL_9f517849ae364def83a39e2549510ea9",
       "value": 111
      }
     },
     "3e5942d139dc4dcd8c062698470bc79d": {
      "model_module": "@jupyter-widgets/base",
      "model_module_version": "2.0.0",
      "model_name": "LayoutModel",
      "state": {}
     },
     "3f093919b17a40169f120d74aaef4b7a": {
      "model_module": "@jupyter-widgets/base",
      "model_module_version": "2.0.0",
      "model_name": "LayoutModel",
      "state": {}
     },
     "413e2cb8358b45a9bb3065d52de832aa": {
      "model_module": "@jupyter-widgets/base",
      "model_module_version": "2.0.0",
      "model_name": "LayoutModel",
      "state": {}
     },
     "41905cd8d17c4cc5bed8802041e2ae70": {
      "model_module": "@jupyter-widgets/controls",
      "model_module_version": "2.0.0",
      "model_name": "HBoxModel",
      "state": {
       "children": [
        "IPY_MODEL_9609f15b1016427c98a2ccc9d5650da6",
        "IPY_MODEL_b9ef89962df74ce1a07221d4e88c073a",
        "IPY_MODEL_76f667ec526c4a18a416245595999769"
       ],
       "layout": "IPY_MODEL_45d6119e16644bcb9bb29134c73933fb"
      }
     },
     "4313114d77cc411dbe39244931530852": {
      "model_module": "@jupyter-widgets/base",
      "model_module_version": "2.0.0",
      "model_name": "LayoutModel",
      "state": {}
     },
     "4423c5072b84465ba193c849ea572d0a": {
      "model_module": "@jupyter-widgets/controls",
      "model_module_version": "2.0.0",
      "model_name": "HTMLStyleModel",
      "state": {
       "description_width": "",
       "font_size": null,
       "text_color": null
      }
     },
     "44ad578a656e45569a31c50134efebd3": {
      "model_module": "@jupyter-widgets/controls",
      "model_module_version": "2.0.0",
      "model_name": "HTMLStyleModel",
      "state": {
       "description_width": "",
       "font_size": null,
       "text_color": null
      }
     },
     "44b5e5b9d9b04e1dafc2c1b0d3f4e57e": {
      "model_module": "@jupyter-widgets/controls",
      "model_module_version": "2.0.0",
      "model_name": "ProgressStyleModel",
      "state": {
       "description_width": ""
      }
     },
     "45d6119e16644bcb9bb29134c73933fb": {
      "model_module": "@jupyter-widgets/base",
      "model_module_version": "2.0.0",
      "model_name": "LayoutModel",
      "state": {}
     },
     "5296dd6f4b0a4cd9b82f3f9ef3ad231b": {
      "model_module": "@jupyter-widgets/base",
      "model_module_version": "2.0.0",
      "model_name": "LayoutModel",
      "state": {}
     },
     "5366f6eb2bbe4d158a526f0a6c45bd06": {
      "model_module": "@jupyter-widgets/controls",
      "model_module_version": "2.0.0",
      "model_name": "HTMLStyleModel",
      "state": {
       "description_width": "",
       "font_size": null,
       "text_color": null
      }
     },
     "55aafeb83c3e4233b934cb1d50c4e065": {
      "model_module": "@jupyter-widgets/controls",
      "model_module_version": "2.0.0",
      "model_name": "HTMLStyleModel",
      "state": {
       "description_width": "",
       "font_size": null,
       "text_color": null
      }
     },
     "5a14de829d5c4cc69001b39cc4bd7441": {
      "model_module": "@jupyter-widgets/controls",
      "model_module_version": "2.0.0",
      "model_name": "ProgressStyleModel",
      "state": {
       "description_width": ""
      }
     },
     "5b9a34697d5a40ce908e6a9fe7bdbab7": {
      "model_module": "@jupyter-widgets/controls",
      "model_module_version": "2.0.0",
      "model_name": "HTMLModel",
      "state": {
       "layout": "IPY_MODEL_03bf0c5dd0c94ac1a7d234158f470f7f",
       "style": "IPY_MODEL_e8dd777d9a704f41891faa69fd941165",
       "value": "100%"
      }
     },
     "5bea07312ee743329571e044e047b40f": {
      "model_module": "@jupyter-widgets/base",
      "model_module_version": "2.0.0",
      "model_name": "LayoutModel",
      "state": {}
     },
     "5e54f00702cd4a4fbadd3f9c2795652a": {
      "model_module": "@jupyter-widgets/controls",
      "model_module_version": "2.0.0",
      "model_name": "ProgressStyleModel",
      "state": {
       "description_width": ""
      }
     },
     "61fb1caa50624bac91aed1092240b493": {
      "model_module": "@jupyter-widgets/controls",
      "model_module_version": "2.0.0",
      "model_name": "HTMLStyleModel",
      "state": {
       "description_width": "",
       "font_size": null,
       "text_color": null
      }
     },
     "650c13b245f640c5a1530246e5350310": {
      "model_module": "@jupyter-widgets/base",
      "model_module_version": "2.0.0",
      "model_name": "LayoutModel",
      "state": {}
     },
     "66eb6587888142d6b4fcc40c9edee41c": {
      "model_module": "@jupyter-widgets/controls",
      "model_module_version": "2.0.0",
      "model_name": "HTMLModel",
      "state": {
       "layout": "IPY_MODEL_1a48ce27b18f42058dd728562799eace",
       "style": "IPY_MODEL_55aafeb83c3e4233b934cb1d50c4e065",
       "value": " 24/24 [00:06&lt;00:00,  4.56it/s]"
      }
     },
     "6ac650b09bcc4ac196a19f5ae713b4c7": {
      "model_module": "@jupyter-widgets/controls",
      "model_module_version": "2.0.0",
      "model_name": "HBoxModel",
      "state": {
       "children": [
        "IPY_MODEL_5b9a34697d5a40ce908e6a9fe7bdbab7",
        "IPY_MODEL_d9dee201c31546da8b45536faba1549b",
        "IPY_MODEL_d46925a2ba9648e4b27579f83e70f6b0"
       ],
       "layout": "IPY_MODEL_5bea07312ee743329571e044e047b40f"
      }
     },
     "76ef0165f98e43e7be612f2a43f0a29c": {
      "model_module": "@jupyter-widgets/controls",
      "model_module_version": "2.0.0",
      "model_name": "HTMLModel",
      "state": {
       "layout": "IPY_MODEL_3f093919b17a40169f120d74aaef4b7a",
       "style": "IPY_MODEL_1ee2ba5cdb6a45e0912a9256a9ef922b",
       "value": " 111/111 [00:57&lt;00:00,  1.82it/s]"
      }
     },
     "76f667ec526c4a18a416245595999769": {
      "model_module": "@jupyter-widgets/controls",
      "model_module_version": "2.0.0",
      "model_name": "HTMLModel",
      "state": {
       "layout": "IPY_MODEL_2633e01b779c4ed59387033fb4cb2f70",
       "style": "IPY_MODEL_26465e4185fe4508b7437f24d7edd9c4",
       "value": " 109/111 [00:59&lt;00:01,  1.86it/s]"
      }
     },
     "7d310be272334da5a28e73666b243fb8": {
      "model_module": "@jupyter-widgets/controls",
      "model_module_version": "2.0.0",
      "model_name": "HTMLStyleModel",
      "state": {
       "description_width": "",
       "font_size": null,
       "text_color": null
      }
     },
     "7fcedb6eed6b4c528a73f717400983d3": {
      "model_module": "@jupyter-widgets/controls",
      "model_module_version": "2.0.0",
      "model_name": "HTMLStyleModel",
      "state": {
       "description_width": "",
       "font_size": null,
       "text_color": null
      }
     },
     "8f25590f576d4f8fb6736c9d8902a6ea": {
      "model_module": "@jupyter-widgets/base",
      "model_module_version": "2.0.0",
      "model_name": "LayoutModel",
      "state": {}
     },
     "9329fa26cb22483a934f3b31889b4124": {
      "model_module": "@jupyter-widgets/controls",
      "model_module_version": "2.0.0",
      "model_name": "ProgressStyleModel",
      "state": {
       "description_width": ""
      }
     },
     "9609f15b1016427c98a2ccc9d5650da6": {
      "model_module": "@jupyter-widgets/controls",
      "model_module_version": "2.0.0",
      "model_name": "HTMLModel",
      "state": {
       "layout": "IPY_MODEL_b969c0d7e18b4601a292e2afa9b4273e",
       "style": "IPY_MODEL_61fb1caa50624bac91aed1092240b493",
       "value": " 98%"
      }
     },
     "971531a18f65417f97525113765091a2": {
      "model_module": "@jupyter-widgets/controls",
      "model_module_version": "2.0.0",
      "model_name": "HBoxModel",
      "state": {
       "children": [
        "IPY_MODEL_a4744d24465b42eebde03fbc4425a663",
        "IPY_MODEL_c5715af8840f4b8b9ccbb3f1c3dfceb6",
        "IPY_MODEL_0deb436f0fb844cbb537237560b34ee3"
       ],
       "layout": "IPY_MODEL_10999a5fc8154c51bd70b1b2992480e1"
      }
     },
     "9a8af595380b4f10a18d718891c82be8": {
      "model_module": "@jupyter-widgets/controls",
      "model_module_version": "2.0.0",
      "model_name": "FloatProgressModel",
      "state": {
       "bar_style": "success",
       "layout": "IPY_MODEL_f21fe65afcaf47b99fe843bbc3574839",
       "max": 24,
       "style": "IPY_MODEL_9329fa26cb22483a934f3b31889b4124",
       "value": 24
      }
     },
     "9c0409e5653b466e8cd105c8dadfd9b7": {
      "model_module": "@jupyter-widgets/controls",
      "model_module_version": "2.0.0",
      "model_name": "HBoxModel",
      "state": {
       "children": [
        "IPY_MODEL_c2a1eafabe35439f8500071283cab3b5",
        "IPY_MODEL_3e05041f2b51414b99c954e8803ae8de",
        "IPY_MODEL_76ef0165f98e43e7be612f2a43f0a29c"
       ],
       "layout": "IPY_MODEL_dc0b52e3c29b4641a1cc7b9f2cbe54ce"
      }
     },
     "9d50b311557a4a4db8ab5d88f0d87e85": {
      "model_module": "@jupyter-widgets/base",
      "model_module_version": "2.0.0",
      "model_name": "LayoutModel",
      "state": {}
     },
     "9f517849ae364def83a39e2549510ea9": {
      "model_module": "@jupyter-widgets/controls",
      "model_module_version": "2.0.0",
      "model_name": "ProgressStyleModel",
      "state": {
       "description_width": ""
      }
     },
     "a0a20e80a27d423093a85202c28bf600": {
      "model_module": "@jupyter-widgets/base",
      "model_module_version": "2.0.0",
      "model_name": "LayoutModel",
      "state": {}
     },
     "a4744d24465b42eebde03fbc4425a663": {
      "model_module": "@jupyter-widgets/controls",
      "model_module_version": "2.0.0",
      "model_name": "HTMLModel",
      "state": {
       "layout": "IPY_MODEL_f26eef6ad4194feebf0b7a59aa42d7b6",
       "style": "IPY_MODEL_7d310be272334da5a28e73666b243fb8",
       "value": "100%"
      }
     },
     "ab488ad0f9324d8fa2754f6a2ebb3885": {
      "model_module": "@jupyter-widgets/controls",
      "model_module_version": "2.0.0",
      "model_name": "HTMLModel",
      "state": {
       "layout": "IPY_MODEL_0677b694b5964d529e11246627880454",
       "style": "IPY_MODEL_44ad578a656e45569a31c50134efebd3",
       "value": "100%"
      }
     },
     "b32a064c638c49f4b259f04ce8b3a6ee": {
      "model_module": "@jupyter-widgets/controls",
      "model_module_version": "2.0.0",
      "model_name": "HTMLModel",
      "state": {
       "layout": "IPY_MODEL_f91ca584fac54481900a155ca12ea6e9",
       "style": "IPY_MODEL_0a02e10b34e941e997b550dfca91e643",
       "value": "100%"
      }
     },
     "b969c0d7e18b4601a292e2afa9b4273e": {
      "model_module": "@jupyter-widgets/base",
      "model_module_version": "2.0.0",
      "model_name": "LayoutModel",
      "state": {}
     },
     "b9ef89962df74ce1a07221d4e88c073a": {
      "model_module": "@jupyter-widgets/controls",
      "model_module_version": "2.0.0",
      "model_name": "FloatProgressModel",
      "state": {
       "layout": "IPY_MODEL_650c13b245f640c5a1530246e5350310",
       "max": 111,
       "style": "IPY_MODEL_00d479cf0b0a4239be611ad215ee4046",
       "value": 109
      }
     },
     "c2a1eafabe35439f8500071283cab3b5": {
      "model_module": "@jupyter-widgets/controls",
      "model_module_version": "2.0.0",
      "model_name": "HTMLModel",
      "state": {
       "layout": "IPY_MODEL_3792c793b8934326ac4ae198d2dba647",
       "style": "IPY_MODEL_fdf54ba850bd4cee8e0d4ed11d1532a9",
       "value": "100%"
      }
     },
     "c5715af8840f4b8b9ccbb3f1c3dfceb6": {
      "model_module": "@jupyter-widgets/controls",
      "model_module_version": "2.0.0",
      "model_name": "FloatProgressModel",
      "state": {
       "bar_style": "success",
       "layout": "IPY_MODEL_217aefa745314e8d91221524a47e4c2a",
       "max": 111,
       "style": "IPY_MODEL_5e54f00702cd4a4fbadd3f9c2795652a",
       "value": 111
      }
     },
     "c84056798f774ec8b31a5b3c547820be": {
      "model_module": "@jupyter-widgets/controls",
      "model_module_version": "2.0.0",
      "model_name": "HBoxModel",
      "state": {
       "children": [
        "IPY_MODEL_b32a064c638c49f4b259f04ce8b3a6ee",
        "IPY_MODEL_0388e788c9dd42cc99e88b386763cb91",
        "IPY_MODEL_236466cb21b94c61963b7bae1eedbeda"
       ],
       "layout": "IPY_MODEL_a0a20e80a27d423093a85202c28bf600"
      }
     },
     "ced8607150fa4f1b991f62fbf8318ad9": {
      "model_module": "@jupyter-widgets/controls",
      "model_module_version": "2.0.0",
      "model_name": "ProgressStyleModel",
      "state": {
       "description_width": ""
      }
     },
     "d23d7d99bf2e466b8d1c9ef8de1a9f26": {
      "model_module": "@jupyter-widgets/controls",
      "model_module_version": "2.0.0",
      "model_name": "HTMLStyleModel",
      "state": {
       "description_width": "",
       "font_size": null,
       "text_color": null
      }
     },
     "d46925a2ba9648e4b27579f83e70f6b0": {
      "model_module": "@jupyter-widgets/controls",
      "model_module_version": "2.0.0",
      "model_name": "HTMLModel",
      "state": {
       "layout": "IPY_MODEL_5296dd6f4b0a4cd9b82f3f9ef3ad231b",
       "style": "IPY_MODEL_7fcedb6eed6b4c528a73f717400983d3",
       "value": " 111/111 [00:52&lt;00:00,  2.16it/s]"
      }
     },
     "d8435f22fd894445b96aa5d70d855721": {
      "model_module": "@jupyter-widgets/controls",
      "model_module_version": "2.0.0",
      "model_name": "HBoxModel",
      "state": {
       "children": [
        "IPY_MODEL_36879ba1af53483f85e0af10071eae1f",
        "IPY_MODEL_9a8af595380b4f10a18d718891c82be8",
        "IPY_MODEL_66eb6587888142d6b4fcc40c9edee41c"
       ],
       "layout": "IPY_MODEL_9d50b311557a4a4db8ab5d88f0d87e85"
      }
     },
     "d9dee201c31546da8b45536faba1549b": {
      "model_module": "@jupyter-widgets/controls",
      "model_module_version": "2.0.0",
      "model_name": "FloatProgressModel",
      "state": {
       "bar_style": "success",
       "layout": "IPY_MODEL_8f25590f576d4f8fb6736c9d8902a6ea",
       "max": 111,
       "style": "IPY_MODEL_ced8607150fa4f1b991f62fbf8318ad9",
       "value": 111
      }
     },
     "dc0b52e3c29b4641a1cc7b9f2cbe54ce": {
      "model_module": "@jupyter-widgets/base",
      "model_module_version": "2.0.0",
      "model_name": "LayoutModel",
      "state": {}
     },
     "dd1ad5f9d4ad4500822c67545568cd97": {
      "model_module": "@jupyter-widgets/controls",
      "model_module_version": "2.0.0",
      "model_name": "HBoxModel",
      "state": {
       "children": [
        "IPY_MODEL_ab488ad0f9324d8fa2754f6a2ebb3885",
        "IPY_MODEL_2fd12295b162417a87e28202b2e1d849",
        "IPY_MODEL_36253960f38a43cda6fd8993ad1296d1"
       ],
       "layout": "IPY_MODEL_413e2cb8358b45a9bb3065d52de832aa"
      }
     },
     "e8dd777d9a704f41891faa69fd941165": {
      "model_module": "@jupyter-widgets/controls",
      "model_module_version": "2.0.0",
      "model_name": "HTMLStyleModel",
      "state": {
       "description_width": "",
       "font_size": null,
       "text_color": null
      }
     },
     "f1c413dc76804ec2854df8d6f0bc954c": {
      "model_module": "@jupyter-widgets/base",
      "model_module_version": "2.0.0",
      "model_name": "LayoutModel",
      "state": {}
     },
     "f21fe65afcaf47b99fe843bbc3574839": {
      "model_module": "@jupyter-widgets/base",
      "model_module_version": "2.0.0",
      "model_name": "LayoutModel",
      "state": {}
     },
     "f26eef6ad4194feebf0b7a59aa42d7b6": {
      "model_module": "@jupyter-widgets/base",
      "model_module_version": "2.0.0",
      "model_name": "LayoutModel",
      "state": {}
     },
     "f6f9c47cf8f6401888e464d393260f44": {
      "model_module": "@jupyter-widgets/base",
      "model_module_version": "2.0.0",
      "model_name": "LayoutModel",
      "state": {}
     },
     "f91ca584fac54481900a155ca12ea6e9": {
      "model_module": "@jupyter-widgets/base",
      "model_module_version": "2.0.0",
      "model_name": "LayoutModel",
      "state": {}
     },
     "fb3ec1b9bbf54d63abea2456f0829905": {
      "model_module": "@jupyter-widgets/base",
      "model_module_version": "2.0.0",
      "model_name": "LayoutModel",
      "state": {}
     },
     "fdf54ba850bd4cee8e0d4ed11d1532a9": {
      "model_module": "@jupyter-widgets/controls",
      "model_module_version": "2.0.0",
      "model_name": "HTMLStyleModel",
      "state": {
       "description_width": "",
       "font_size": null,
       "text_color": null
      }
     }
    },
    "version_major": 2,
    "version_minor": 0
   }
  }
 },
 "nbformat": 4,
 "nbformat_minor": 5
}
